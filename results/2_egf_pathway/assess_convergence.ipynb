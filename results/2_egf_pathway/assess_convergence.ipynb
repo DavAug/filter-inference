{
 "cells": [
  {
   "cell_type": "markdown",
   "metadata": {},
   "source": [
    "# Assess convergence of inference runs"
   ]
  },
  {
   "cell_type": "code",
   "execution_count": 1,
   "metadata": {},
   "outputs": [],
   "source": [
    "import os\n",
    "\n",
    "import arviz as az\n",
    "import numpy as np\n",
    "import xarray as xr"
   ]
  },
  {
   "cell_type": "markdown",
   "metadata": {},
   "source": [
    "## Load data"
   ]
  },
  {
   "cell_type": "code",
   "execution_count": 2,
   "metadata": {},
   "outputs": [],
   "source": [
    "# Load chains\n",
    "directory = os.getcwd()\n",
    "chains = []\n",
    "chains.append(xr.load_dataset(directory + '/posteriors/filter_inference_egf_pathway.nc'))\n",
    "chains.append(xr.load_dataset(directory + '/posteriors/filter_inference_egf_pathway_run_2.nc'))\n",
    "chains.append(xr.load_dataset(directory + '/posteriors/filter_inference_egf_pathway_run_3.nc'))\n",
    "\n",
    "# Merge chains\n",
    "# chains[0] = chains[0].rename_vars({'Mean Initial count': 'Mean Initial volume'})\n",
    "# chains[0] = chains[0].rename_vars({'Std. Initial count': 'Std. Initial volume'})\n",
    "# chains[0] = chains[0].rename_vars({'Initial count': 'Initial volume'})\n",
    "posterior = xr.concat(chains, dim='chain')"
   ]
  },
  {
   "cell_type": "markdown",
   "metadata": {},
   "source": [
    "Number of divergent iterations"
   ]
  },
  {
   "cell_type": "code",
   "execution_count": 3,
   "metadata": {},
   "outputs": [
    {
     "name": "stdout",
     "output_type": "stream",
     "text": [
      "Number of divergent iterations chain 1:  0\n",
      "Number of divergent iterations chain 2:  0\n",
      "Number of divergent iterations chain 3:  0\n"
     ]
    }
   ],
   "source": [
    "warmup = 500\n",
    "n = np.sum(chains[0].attrs['divergent iterations chain 0'] > warmup)\n",
    "print('Number of divergent iterations chain 1: ', n)\n",
    "n = np.sum(chains[1].attrs['divergent iterations chain 0'] > warmup)\n",
    "print('Number of divergent iterations chain 2: ', n)\n",
    "n = np.sum(chains[2].attrs['divergent iterations chain 0'] > warmup)\n",
    "print('Number of divergent iterations chain 3: ', n)"
   ]
  },
  {
   "cell_type": "markdown",
   "metadata": {},
   "source": [
    "Effective number of samples and convergence"
   ]
  },
  {
   "cell_type": "code",
   "execution_count": 5,
   "metadata": {},
   "outputs": [
    {
     "data": {
      "text/html": [
       "<div>\n",
       "<style scoped>\n",
       "    .dataframe tbody tr th:only-of-type {\n",
       "        vertical-align: middle;\n",
       "    }\n",
       "\n",
       "    .dataframe tbody tr th {\n",
       "        vertical-align: top;\n",
       "    }\n",
       "\n",
       "    .dataframe thead th {\n",
       "        text-align: right;\n",
       "    }\n",
       "</style>\n",
       "<table border=\"1\" class=\"dataframe\">\n",
       "  <thead>\n",
       "    <tr style=\"text-align: right;\">\n",
       "      <th></th>\n",
       "      <th>mean</th>\n",
       "      <th>sd</th>\n",
       "      <th>hdi_3%</th>\n",
       "      <th>hdi_97%</th>\n",
       "      <th>mcse_mean</th>\n",
       "      <th>mcse_sd</th>\n",
       "      <th>ess_bulk</th>\n",
       "      <th>ess_tail</th>\n",
       "      <th>r_hat</th>\n",
       "    </tr>\n",
       "  </thead>\n",
       "  <tbody>\n",
       "    <tr>\n",
       "      <th>Mean myokit.activation_rate</th>\n",
       "      <td>1.911</td>\n",
       "      <td>0.139</td>\n",
       "      <td>1.660</td>\n",
       "      <td>2.175</td>\n",
       "      <td>0.003</td>\n",
       "      <td>0.002</td>\n",
       "      <td>1938.0</td>\n",
       "      <td>1960.0</td>\n",
       "      <td>1.0</td>\n",
       "    </tr>\n",
       "    <tr>\n",
       "      <th>Std. myokit.activation_rate</th>\n",
       "      <td>0.054</td>\n",
       "      <td>0.014</td>\n",
       "      <td>0.028</td>\n",
       "      <td>0.077</td>\n",
       "      <td>0.000</td>\n",
       "      <td>0.000</td>\n",
       "      <td>2683.0</td>\n",
       "      <td>2539.0</td>\n",
       "      <td>1.0</td>\n",
       "    </tr>\n",
       "    <tr>\n",
       "      <th>Pooled myokit.deactivation_rate</th>\n",
       "      <td>9.054</td>\n",
       "      <td>0.674</td>\n",
       "      <td>7.844</td>\n",
       "      <td>10.363</td>\n",
       "      <td>0.016</td>\n",
       "      <td>0.011</td>\n",
       "      <td>1944.0</td>\n",
       "      <td>1981.0</td>\n",
       "      <td>1.0</td>\n",
       "    </tr>\n",
       "    <tr>\n",
       "      <th>Pooled myokit.degradation_rate_active_receptor</th>\n",
       "      <td>0.015</td>\n",
       "      <td>0.001</td>\n",
       "      <td>0.014</td>\n",
       "      <td>0.017</td>\n",
       "      <td>0.000</td>\n",
       "      <td>0.000</td>\n",
       "      <td>4025.0</td>\n",
       "      <td>2649.0</td>\n",
       "      <td>1.0</td>\n",
       "    </tr>\n",
       "    <tr>\n",
       "      <th>Pooled myokit.degradation_rate_inactive_receptor</th>\n",
       "      <td>0.248</td>\n",
       "      <td>0.002</td>\n",
       "      <td>0.245</td>\n",
       "      <td>0.251</td>\n",
       "      <td>0.000</td>\n",
       "      <td>0.000</td>\n",
       "      <td>3532.0</td>\n",
       "      <td>2413.0</td>\n",
       "      <td>1.0</td>\n",
       "    </tr>\n",
       "    <tr>\n",
       "      <th>Mean myokit.production_rate</th>\n",
       "      <td>1.695</td>\n",
       "      <td>0.008</td>\n",
       "      <td>1.681</td>\n",
       "      <td>1.709</td>\n",
       "      <td>0.000</td>\n",
       "      <td>0.000</td>\n",
       "      <td>3033.0</td>\n",
       "      <td>2352.0</td>\n",
       "      <td>1.0</td>\n",
       "    </tr>\n",
       "    <tr>\n",
       "      <th>Std. myokit.production_rate</th>\n",
       "      <td>0.049</td>\n",
       "      <td>0.006</td>\n",
       "      <td>0.037</td>\n",
       "      <td>0.061</td>\n",
       "      <td>0.000</td>\n",
       "      <td>0.000</td>\n",
       "      <td>2282.0</td>\n",
       "      <td>2409.0</td>\n",
       "      <td>1.0</td>\n",
       "    </tr>\n",
       "  </tbody>\n",
       "</table>\n",
       "</div>"
      ],
      "text/plain": [
       "                                                   mean     sd  hdi_3%  \\\n",
       "Mean myokit.activation_rate                       1.911  0.139   1.660   \n",
       "Std. myokit.activation_rate                       0.054  0.014   0.028   \n",
       "Pooled myokit.deactivation_rate                   9.054  0.674   7.844   \n",
       "Pooled myokit.degradation_rate_active_receptor    0.015  0.001   0.014   \n",
       "Pooled myokit.degradation_rate_inactive_receptor  0.248  0.002   0.245   \n",
       "Mean myokit.production_rate                       1.695  0.008   1.681   \n",
       "Std. myokit.production_rate                       0.049  0.006   0.037   \n",
       "\n",
       "                                                  hdi_97%  mcse_mean  mcse_sd  \\\n",
       "Mean myokit.activation_rate                         2.175      0.003    0.002   \n",
       "Std. myokit.activation_rate                         0.077      0.000    0.000   \n",
       "Pooled myokit.deactivation_rate                    10.363      0.016    0.011   \n",
       "Pooled myokit.degradation_rate_active_receptor      0.017      0.000    0.000   \n",
       "Pooled myokit.degradation_rate_inactive_receptor    0.251      0.000    0.000   \n",
       "Mean myokit.production_rate                         1.709      0.000    0.000   \n",
       "Std. myokit.production_rate                         0.061      0.000    0.000   \n",
       "\n",
       "                                                  ess_bulk  ess_tail  r_hat  \n",
       "Mean myokit.activation_rate                         1938.0    1960.0    1.0  \n",
       "Std. myokit.activation_rate                         2683.0    2539.0    1.0  \n",
       "Pooled myokit.deactivation_rate                     1944.0    1981.0    1.0  \n",
       "Pooled myokit.degradation_rate_active_receptor      4025.0    2649.0    1.0  \n",
       "Pooled myokit.degradation_rate_inactive_receptor    3532.0    2413.0    1.0  \n",
       "Mean myokit.production_rate                         3033.0    2352.0    1.0  \n",
       "Std. myokit.production_rate                         2282.0    2409.0    1.0  "
      ]
     },
     "execution_count": 5,
     "metadata": {},
     "output_type": "execute_result"
    }
   ],
   "source": [
    "az.summary(posterior[[\n",
    "    'Mean myokit.activation_rate',\n",
    "    'Std. myokit.activation_rate',\n",
    "    'Pooled myokit.deactivation_rate',\n",
    "    'Pooled myokit.degradation_rate_active_receptor',\n",
    "    'Pooled myokit.degradation_rate_inactive_receptor',\n",
    "    'Mean myokit.production_rate',\n",
    "    'Std. myokit.production_rate']])"
   ]
  }
 ],
 "metadata": {
  "interpreter": {
   "hash": "7029d8462a547bb653d35db046a7cbb8cb55769ec4cde8e4131add3175164cbb"
  },
  "kernelspec": {
   "display_name": "Python 3.9.4 ('venv': venv)",
   "language": "python",
   "name": "python3"
  },
  "language_info": {
   "codemirror_mode": {
    "name": "ipython",
    "version": 3
   },
   "file_extension": ".py",
   "mimetype": "text/x-python",
   "name": "python",
   "nbconvert_exporter": "python",
   "pygments_lexer": "ipython3",
   "version": "3.9.4"
  },
  "orig_nbformat": 4
 },
 "nbformat": 4,
 "nbformat_minor": 2
}

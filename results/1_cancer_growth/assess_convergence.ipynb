{
 "cells": [
  {
   "cell_type": "markdown",
   "metadata": {},
   "source": [
    "# Assess convergence of inference runs"
   ]
  },
  {
   "cell_type": "code",
   "execution_count": 26,
   "metadata": {},
   "outputs": [],
   "source": [
    "import os\n",
    "\n",
    "import arviz as az\n",
    "import numpy as np\n",
    "import xarray as xr"
   ]
  },
  {
   "cell_type": "markdown",
   "metadata": {},
   "source": [
    "## 1. NLME inference - 90 snapshot measurements"
   ]
  },
  {
   "cell_type": "code",
   "execution_count": 50,
   "metadata": {},
   "outputs": [],
   "source": [
    "# Load chains\n",
    "directory = os.getcwd()\n",
    "chains = []\n",
    "chains.append(xr.load_dataset(directory + '/posteriors/1_nlme_inference_cancer_growth.nc'))\n",
    "chains.append(xr.load_dataset(directory + '/posteriors/1_nlme_inference_cancer_growth_run_2.nc'))\n",
    "chains.append(xr.load_dataset(directory + '/posteriors/1_nlme_inference_cancer_growth_run_3.nc'))\n",
    "\n",
    "# Merge chains\n",
    "chains[0] = chains[0].rename_vars({'Mean Initial count': 'Mean Initial volume'})\n",
    "chains[0] = chains[0].rename_vars({'Std. Initial count': 'Std. Initial volume'})\n",
    "chains[0] = chains[0].rename_vars({'Initial count': 'Initial volume'})\n",
    "posterior = xr.concat(chains, dim='chain')"
   ]
  },
  {
   "cell_type": "markdown",
   "metadata": {},
   "source": [
    "Number of divergent iterations"
   ]
  },
  {
   "cell_type": "code",
   "execution_count": 51,
   "metadata": {},
   "outputs": [
    {
     "name": "stdout",
     "output_type": "stream",
     "text": [
      "Number of divergent iterations chain 1:  0\n",
      "Number of divergent iterations chain 2:  0\n",
      "Number of divergent iterations chain 3:  0\n"
     ]
    }
   ],
   "source": [
    "warmup = 500\n",
    "n = np.sum(chains[0].attrs['divergent iterations chain 0'] > warmup)\n",
    "print('Number of divergent iterations chain 1: ', n)\n",
    "n = np.sum(chains[1].attrs['divergent iterations chain 0'] > warmup)\n",
    "print('Number of divergent iterations chain 2: ', n)\n",
    "n = np.sum(chains[2].attrs['divergent iterations chain 0'] > warmup)\n",
    "print('Number of divergent iterations chain 3: ', n)"
   ]
  },
  {
   "cell_type": "markdown",
   "metadata": {},
   "source": [
    "Effective number of samples and convergence"
   ]
  },
  {
   "cell_type": "code",
   "execution_count": 52,
   "metadata": {},
   "outputs": [
    {
     "data": {
      "text/html": [
       "<div>\n",
       "<style scoped>\n",
       "    .dataframe tbody tr th:only-of-type {\n",
       "        vertical-align: middle;\n",
       "    }\n",
       "\n",
       "    .dataframe tbody tr th {\n",
       "        vertical-align: top;\n",
       "    }\n",
       "\n",
       "    .dataframe thead th {\n",
       "        text-align: right;\n",
       "    }\n",
       "</style>\n",
       "<table border=\"1\" class=\"dataframe\">\n",
       "  <thead>\n",
       "    <tr style=\"text-align: right;\">\n",
       "      <th></th>\n",
       "      <th>mean</th>\n",
       "      <th>sd</th>\n",
       "      <th>hdi_3%</th>\n",
       "      <th>hdi_97%</th>\n",
       "      <th>mcse_mean</th>\n",
       "      <th>mcse_sd</th>\n",
       "      <th>ess_bulk</th>\n",
       "      <th>ess_tail</th>\n",
       "      <th>r_hat</th>\n",
       "    </tr>\n",
       "  </thead>\n",
       "  <tbody>\n",
       "    <tr>\n",
       "      <th>Mean Initial volume</th>\n",
       "      <td>10.263</td>\n",
       "      <td>0.264</td>\n",
       "      <td>9.780</td>\n",
       "      <td>10.771</td>\n",
       "      <td>0.005</td>\n",
       "      <td>0.003</td>\n",
       "      <td>3080.0</td>\n",
       "      <td>2409.0</td>\n",
       "      <td>1.0</td>\n",
       "    </tr>\n",
       "    <tr>\n",
       "      <th>Mean Growth rate</th>\n",
       "      <td>1.903</td>\n",
       "      <td>0.095</td>\n",
       "      <td>1.721</td>\n",
       "      <td>2.081</td>\n",
       "      <td>0.002</td>\n",
       "      <td>0.001</td>\n",
       "      <td>2334.0</td>\n",
       "      <td>2503.0</td>\n",
       "      <td>1.0</td>\n",
       "    </tr>\n",
       "    <tr>\n",
       "      <th>Std. Initial volume</th>\n",
       "      <td>1.049</td>\n",
       "      <td>0.239</td>\n",
       "      <td>0.592</td>\n",
       "      <td>1.494</td>\n",
       "      <td>0.009</td>\n",
       "      <td>0.007</td>\n",
       "      <td>637.0</td>\n",
       "      <td>980.0</td>\n",
       "      <td>1.0</td>\n",
       "    </tr>\n",
       "    <tr>\n",
       "      <th>Std. Growth rate</th>\n",
       "      <td>0.407</td>\n",
       "      <td>0.074</td>\n",
       "      <td>0.269</td>\n",
       "      <td>0.546</td>\n",
       "      <td>0.002</td>\n",
       "      <td>0.002</td>\n",
       "      <td>1096.0</td>\n",
       "      <td>1447.0</td>\n",
       "      <td>1.0</td>\n",
       "    </tr>\n",
       "    <tr>\n",
       "      <th>Pooled Sigma</th>\n",
       "      <td>0.800</td>\n",
       "      <td>0.101</td>\n",
       "      <td>0.615</td>\n",
       "      <td>0.988</td>\n",
       "      <td>0.004</td>\n",
       "      <td>0.003</td>\n",
       "      <td>535.0</td>\n",
       "      <td>1094.0</td>\n",
       "      <td>1.0</td>\n",
       "    </tr>\n",
       "  </tbody>\n",
       "</table>\n",
       "</div>"
      ],
      "text/plain": [
       "                       mean     sd  hdi_3%  hdi_97%  mcse_mean  mcse_sd  \\\n",
       "Mean Initial volume  10.263  0.264   9.780   10.771      0.005    0.003   \n",
       "Mean Growth rate      1.903  0.095   1.721    2.081      0.002    0.001   \n",
       "Std. Initial volume   1.049  0.239   0.592    1.494      0.009    0.007   \n",
       "Std. Growth rate      0.407  0.074   0.269    0.546      0.002    0.002   \n",
       "Pooled Sigma          0.800  0.101   0.615    0.988      0.004    0.003   \n",
       "\n",
       "                     ess_bulk  ess_tail  r_hat  \n",
       "Mean Initial volume    3080.0    2409.0    1.0  \n",
       "Mean Growth rate       2334.0    2503.0    1.0  \n",
       "Std. Initial volume     637.0     980.0    1.0  \n",
       "Std. Growth rate       1096.0    1447.0    1.0  \n",
       "Pooled Sigma            535.0    1094.0    1.0  "
      ]
     },
     "execution_count": 52,
     "metadata": {},
     "output_type": "execute_result"
    }
   ],
   "source": [
    "az.summary(posterior[[\n",
    "    'Mean Initial volume',\n",
    "    'Mean Growth rate',\n",
    "    'Std. Initial volume',\n",
    "    'Std. Growth rate',\n",
    "    'Pooled Sigma']])"
   ]
  },
  {
   "cell_type": "markdown",
   "metadata": {},
   "source": [
    "## 2. Filter inference - 90 snapshot measurements"
   ]
  },
  {
   "cell_type": "code",
   "execution_count": 22,
   "metadata": {},
   "outputs": [],
   "source": [
    "# Load chains\n",
    "directory = os.getcwd()\n",
    "chains = []\n",
    "chains.append(xr.load_dataset(directory + '/posteriors/2_filter_inference_cancer_growth_15.nc'))\n",
    "chains.append(xr.load_dataset(directory + '/posteriors/2_filter_inference_cancer_growth_15_run_2.nc'))\n",
    "chains.append(xr.load_dataset(directory + '/posteriors/2_filter_inference_cancer_growth_15_run_3.nc'))\n",
    "\n",
    "# Merge chains\n",
    "chains[0] = chains[0].rename_vars({'Mean Initial count': 'Mean Initial volume'})\n",
    "chains[0] = chains[0].rename_vars({'Std. Initial count': 'Std. Initial volume'})\n",
    "chains[0] = chains[0].rename_vars({'Initial count': 'Initial volume'})\n",
    "chains[0] = chains[0].rename_vars({'Sigma Count': 'Sigma Tumour volume'})\n",
    "chains[0] = chains[0].rename_vars({'Count Epsilon time 1': 'Tumour volume Epsilon time 1'})\n",
    "chains[0] = chains[0].rename_vars({'Count Epsilon time 2': 'Tumour volume Epsilon time 2'})\n",
    "chains[0] = chains[0].rename_vars({'Count Epsilon time 3': 'Tumour volume Epsilon time 3'})\n",
    "chains[0] = chains[0].rename_vars({'Count Epsilon time 4': 'Tumour volume Epsilon time 4'})\n",
    "chains[0] = chains[0].rename_vars({'Count Epsilon time 5': 'Tumour volume Epsilon time 5'})\n",
    "chains[0] = chains[0].rename_vars({'Count Epsilon time 6': 'Tumour volume Epsilon time 6'})\n",
    "posterior = xr.concat(chains, dim='chain')"
   ]
  },
  {
   "cell_type": "markdown",
   "metadata": {},
   "source": [
    "Number of divergent iterations:"
   ]
  },
  {
   "cell_type": "code",
   "execution_count": 29,
   "metadata": {},
   "outputs": [
    {
     "name": "stdout",
     "output_type": "stream",
     "text": [
      "Number of divergent iterations chain 1:  0\n",
      "Number of divergent iterations chain 2:  0\n",
      "Number of divergent iterations chain 3:  0\n"
     ]
    }
   ],
   "source": [
    "warmup = 500\n",
    "n = np.sum(chains[0].attrs['divergent iterations chain 0'] > warmup)\n",
    "print('Number of divergent iterations chain 1: ', n)\n",
    "n = np.sum(chains[1].attrs['divergent iterations chain 0'] > warmup)\n",
    "print('Number of divergent iterations chain 2: ', n)\n",
    "n = np.sum(chains[2].attrs['divergent iterations chain 0'] > warmup)\n",
    "print('Number of divergent iterations chain 3: ', n)"
   ]
  },
  {
   "cell_type": "markdown",
   "metadata": {},
   "source": [
    "Effective number of samples and convergence"
   ]
  },
  {
   "cell_type": "code",
   "execution_count": 33,
   "metadata": {},
   "outputs": [
    {
     "data": {
      "text/html": [
       "<div>\n",
       "<style scoped>\n",
       "    .dataframe tbody tr th:only-of-type {\n",
       "        vertical-align: middle;\n",
       "    }\n",
       "\n",
       "    .dataframe tbody tr th {\n",
       "        vertical-align: top;\n",
       "    }\n",
       "\n",
       "    .dataframe thead th {\n",
       "        text-align: right;\n",
       "    }\n",
       "</style>\n",
       "<table border=\"1\" class=\"dataframe\">\n",
       "  <thead>\n",
       "    <tr style=\"text-align: right;\">\n",
       "      <th></th>\n",
       "      <th>mean</th>\n",
       "      <th>sd</th>\n",
       "      <th>hdi_3%</th>\n",
       "      <th>hdi_97%</th>\n",
       "      <th>mcse_mean</th>\n",
       "      <th>mcse_sd</th>\n",
       "      <th>ess_bulk</th>\n",
       "      <th>ess_tail</th>\n",
       "      <th>r_hat</th>\n",
       "    </tr>\n",
       "  </thead>\n",
       "  <tbody>\n",
       "    <tr>\n",
       "      <th>Mean Initial volume</th>\n",
       "      <td>10.273</td>\n",
       "      <td>0.292</td>\n",
       "      <td>9.758</td>\n",
       "      <td>10.845</td>\n",
       "      <td>0.006</td>\n",
       "      <td>0.004</td>\n",
       "      <td>2658.0</td>\n",
       "      <td>2152.0</td>\n",
       "      <td>1.0</td>\n",
       "    </tr>\n",
       "    <tr>\n",
       "      <th>Mean Growth rate</th>\n",
       "      <td>1.887</td>\n",
       "      <td>0.110</td>\n",
       "      <td>1.686</td>\n",
       "      <td>2.099</td>\n",
       "      <td>0.002</td>\n",
       "      <td>0.001</td>\n",
       "      <td>2800.0</td>\n",
       "      <td>2486.0</td>\n",
       "      <td>1.0</td>\n",
       "    </tr>\n",
       "    <tr>\n",
       "      <th>Std. Initial volume</th>\n",
       "      <td>1.071</td>\n",
       "      <td>0.268</td>\n",
       "      <td>0.549</td>\n",
       "      <td>1.538</td>\n",
       "      <td>0.005</td>\n",
       "      <td>0.004</td>\n",
       "      <td>2996.0</td>\n",
       "      <td>2416.0</td>\n",
       "      <td>1.0</td>\n",
       "    </tr>\n",
       "    <tr>\n",
       "      <th>Std. Growth rate</th>\n",
       "      <td>0.406</td>\n",
       "      <td>0.088</td>\n",
       "      <td>0.236</td>\n",
       "      <td>0.571</td>\n",
       "      <td>0.002</td>\n",
       "      <td>0.001</td>\n",
       "      <td>2626.0</td>\n",
       "      <td>2166.0</td>\n",
       "      <td>1.0</td>\n",
       "    </tr>\n",
       "    <tr>\n",
       "      <th>Sigma Tumour volume</th>\n",
       "      <td>0.789</td>\n",
       "      <td>0.101</td>\n",
       "      <td>0.592</td>\n",
       "      <td>0.973</td>\n",
       "      <td>0.002</td>\n",
       "      <td>0.001</td>\n",
       "      <td>4128.0</td>\n",
       "      <td>1916.0</td>\n",
       "      <td>1.0</td>\n",
       "    </tr>\n",
       "  </tbody>\n",
       "</table>\n",
       "</div>"
      ],
      "text/plain": [
       "                       mean     sd  hdi_3%  hdi_97%  mcse_mean  mcse_sd  \\\n",
       "Mean Initial volume  10.273  0.292   9.758   10.845      0.006    0.004   \n",
       "Mean Growth rate      1.887  0.110   1.686    2.099      0.002    0.001   \n",
       "Std. Initial volume   1.071  0.268   0.549    1.538      0.005    0.004   \n",
       "Std. Growth rate      0.406  0.088   0.236    0.571      0.002    0.001   \n",
       "Sigma Tumour volume   0.789  0.101   0.592    0.973      0.002    0.001   \n",
       "\n",
       "                     ess_bulk  ess_tail  r_hat  \n",
       "Mean Initial volume    2658.0    2152.0    1.0  \n",
       "Mean Growth rate       2800.0    2486.0    1.0  \n",
       "Std. Initial volume    2996.0    2416.0    1.0  \n",
       "Std. Growth rate       2626.0    2166.0    1.0  \n",
       "Sigma Tumour volume    4128.0    1916.0    1.0  "
      ]
     },
     "execution_count": 33,
     "metadata": {},
     "output_type": "execute_result"
    }
   ],
   "source": [
    "az.summary(posterior[[\n",
    "    'Mean Initial volume',\n",
    "    'Mean Growth rate',\n",
    "    'Std. Initial volume',\n",
    "    'Std. Growth rate',\n",
    "    'Sigma Tumour volume']])"
   ]
  },
  {
   "cell_type": "markdown",
   "metadata": {},
   "source": [
    "## 3. Filter inference - 270 snapshot measurements"
   ]
  },
  {
   "cell_type": "code",
   "execution_count": 35,
   "metadata": {},
   "outputs": [],
   "source": [
    "# Load chains\n",
    "directory = os.getcwd()\n",
    "chains = []\n",
    "chains.append(xr.load_dataset(directory + '/posteriors/3_filter_inference_cancer_growth_45.nc'))\n",
    "chains.append(xr.load_dataset(directory + '/posteriors/3_filter_inference_cancer_growth_45_run_2.nc'))\n",
    "chains.append(xr.load_dataset(directory + '/posteriors/3_filter_inference_cancer_growth_45_run_3.nc'))\n",
    "\n",
    "# Merge chains\n",
    "chains[0] = chains[0].rename_vars({'Mean Initial count': 'Mean Initial volume'})\n",
    "chains[0] = chains[0].rename_vars({'Std. Initial count': 'Std. Initial volume'})\n",
    "chains[0] = chains[0].rename_vars({'Initial count': 'Initial volume'})\n",
    "chains[0] = chains[0].rename_vars({'Sigma Count': 'Sigma Tumour volume'})\n",
    "chains[0] = chains[0].rename_vars({'Count Epsilon time 1': 'Tumour volume Epsilon time 1'})\n",
    "chains[0] = chains[0].rename_vars({'Count Epsilon time 2': 'Tumour volume Epsilon time 2'})\n",
    "chains[0] = chains[0].rename_vars({'Count Epsilon time 3': 'Tumour volume Epsilon time 3'})\n",
    "chains[0] = chains[0].rename_vars({'Count Epsilon time 4': 'Tumour volume Epsilon time 4'})\n",
    "chains[0] = chains[0].rename_vars({'Count Epsilon time 5': 'Tumour volume Epsilon time 5'})\n",
    "chains[0] = chains[0].rename_vars({'Count Epsilon time 6': 'Tumour volume Epsilon time 6'})\n",
    "posterior = xr.concat(chains, dim='chain')"
   ]
  },
  {
   "cell_type": "markdown",
   "metadata": {},
   "source": [
    "Number of divergent iterations"
   ]
  },
  {
   "cell_type": "code",
   "execution_count": 36,
   "metadata": {},
   "outputs": [
    {
     "name": "stdout",
     "output_type": "stream",
     "text": [
      "Number of divergent iterations chain 1:  0\n",
      "Number of divergent iterations chain 2:  0\n",
      "Number of divergent iterations chain 3:  0\n"
     ]
    }
   ],
   "source": [
    "warmup = 500\n",
    "n = np.sum(chains[0].attrs['divergent iterations chain 0'] > warmup)\n",
    "print('Number of divergent iterations chain 1: ', n)\n",
    "n = np.sum(chains[1].attrs['divergent iterations chain 0'] > warmup)\n",
    "print('Number of divergent iterations chain 2: ', n)\n",
    "n = np.sum(chains[2].attrs['divergent iterations chain 0'] > warmup)\n",
    "print('Number of divergent iterations chain 3: ', n)"
   ]
  },
  {
   "cell_type": "markdown",
   "metadata": {},
   "source": [
    "Effective number of samples and convergence"
   ]
  },
  {
   "cell_type": "code",
   "execution_count": 37,
   "metadata": {},
   "outputs": [
    {
     "data": {
      "text/html": [
       "<div>\n",
       "<style scoped>\n",
       "    .dataframe tbody tr th:only-of-type {\n",
       "        vertical-align: middle;\n",
       "    }\n",
       "\n",
       "    .dataframe tbody tr th {\n",
       "        vertical-align: top;\n",
       "    }\n",
       "\n",
       "    .dataframe thead th {\n",
       "        text-align: right;\n",
       "    }\n",
       "</style>\n",
       "<table border=\"1\" class=\"dataframe\">\n",
       "  <thead>\n",
       "    <tr style=\"text-align: right;\">\n",
       "      <th></th>\n",
       "      <th>mean</th>\n",
       "      <th>sd</th>\n",
       "      <th>hdi_3%</th>\n",
       "      <th>hdi_97%</th>\n",
       "      <th>mcse_mean</th>\n",
       "      <th>mcse_sd</th>\n",
       "      <th>ess_bulk</th>\n",
       "      <th>ess_tail</th>\n",
       "      <th>r_hat</th>\n",
       "    </tr>\n",
       "  </thead>\n",
       "  <tbody>\n",
       "    <tr>\n",
       "      <th>Mean Initial volume</th>\n",
       "      <td>10.018</td>\n",
       "      <td>0.182</td>\n",
       "      <td>9.691</td>\n",
       "      <td>10.370</td>\n",
       "      <td>0.003</td>\n",
       "      <td>0.002</td>\n",
       "      <td>2993.0</td>\n",
       "      <td>2221.0</td>\n",
       "      <td>1.0</td>\n",
       "    </tr>\n",
       "    <tr>\n",
       "      <th>Mean Growth rate</th>\n",
       "      <td>2.062</td>\n",
       "      <td>0.083</td>\n",
       "      <td>1.902</td>\n",
       "      <td>2.217</td>\n",
       "      <td>0.002</td>\n",
       "      <td>0.001</td>\n",
       "      <td>2505.0</td>\n",
       "      <td>2333.0</td>\n",
       "      <td>1.0</td>\n",
       "    </tr>\n",
       "    <tr>\n",
       "      <th>Std. Initial volume</th>\n",
       "      <td>0.973</td>\n",
       "      <td>0.173</td>\n",
       "      <td>0.675</td>\n",
       "      <td>1.315</td>\n",
       "      <td>0.004</td>\n",
       "      <td>0.003</td>\n",
       "      <td>2394.0</td>\n",
       "      <td>2047.0</td>\n",
       "      <td>1.0</td>\n",
       "    </tr>\n",
       "    <tr>\n",
       "      <th>Std. Growth rate</th>\n",
       "      <td>0.533</td>\n",
       "      <td>0.062</td>\n",
       "      <td>0.417</td>\n",
       "      <td>0.652</td>\n",
       "      <td>0.002</td>\n",
       "      <td>0.001</td>\n",
       "      <td>1704.0</td>\n",
       "      <td>1748.0</td>\n",
       "      <td>1.0</td>\n",
       "    </tr>\n",
       "    <tr>\n",
       "      <th>Sigma Tumour volume</th>\n",
       "      <td>0.799</td>\n",
       "      <td>0.098</td>\n",
       "      <td>0.624</td>\n",
       "      <td>0.986</td>\n",
       "      <td>0.002</td>\n",
       "      <td>0.001</td>\n",
       "      <td>3775.0</td>\n",
       "      <td>2398.0</td>\n",
       "      <td>1.0</td>\n",
       "    </tr>\n",
       "  </tbody>\n",
       "</table>\n",
       "</div>"
      ],
      "text/plain": [
       "                       mean     sd  hdi_3%  hdi_97%  mcse_mean  mcse_sd  \\\n",
       "Mean Initial volume  10.018  0.182   9.691   10.370      0.003    0.002   \n",
       "Mean Growth rate      2.062  0.083   1.902    2.217      0.002    0.001   \n",
       "Std. Initial volume   0.973  0.173   0.675    1.315      0.004    0.003   \n",
       "Std. Growth rate      0.533  0.062   0.417    0.652      0.002    0.001   \n",
       "Sigma Tumour volume   0.799  0.098   0.624    0.986      0.002    0.001   \n",
       "\n",
       "                     ess_bulk  ess_tail  r_hat  \n",
       "Mean Initial volume    2993.0    2221.0    1.0  \n",
       "Mean Growth rate       2505.0    2333.0    1.0  \n",
       "Std. Initial volume    2394.0    2047.0    1.0  \n",
       "Std. Growth rate       1704.0    1748.0    1.0  \n",
       "Sigma Tumour volume    3775.0    2398.0    1.0  "
      ]
     },
     "execution_count": 37,
     "metadata": {},
     "output_type": "execute_result"
    }
   ],
   "source": [
    "az.summary(posterior[[\n",
    "    'Mean Initial volume',\n",
    "    'Mean Growth rate',\n",
    "    'Std. Initial volume',\n",
    "    'Std. Growth rate',\n",
    "    'Sigma Tumour volume']])"
   ]
  },
  {
   "cell_type": "markdown",
   "metadata": {},
   "source": [
    "## 4. Filter inference - 810 snapshot measurements"
   ]
  },
  {
   "cell_type": "code",
   "execution_count": 38,
   "metadata": {},
   "outputs": [],
   "source": [
    "# Load chains\n",
    "directory = os.getcwd()\n",
    "chains = []\n",
    "chains.append(xr.load_dataset(directory + '/posteriors/4_filter_inference_cancer_growth_135.nc'))\n",
    "chains.append(xr.load_dataset(directory + '/posteriors/4_filter_inference_cancer_growth_135_run_2.nc'))\n",
    "chains.append(xr.load_dataset(directory + '/posteriors/4_filter_inference_cancer_growth_135_run_3.nc'))\n",
    "\n",
    "# Merge chains\n",
    "chains[0] = chains[0].rename_vars({'Mean Initial count': 'Mean Initial volume'})\n",
    "chains[0] = chains[0].rename_vars({'Std. Initial count': 'Std. Initial volume'})\n",
    "chains[0] = chains[0].rename_vars({'Initial count': 'Initial volume'})\n",
    "chains[0] = chains[0].rename_vars({'Sigma Count': 'Sigma Tumour volume'})\n",
    "chains[0] = chains[0].rename_vars({'Count Epsilon time 1': 'Tumour volume Epsilon time 1'})\n",
    "chains[0] = chains[0].rename_vars({'Count Epsilon time 2': 'Tumour volume Epsilon time 2'})\n",
    "chains[0] = chains[0].rename_vars({'Count Epsilon time 3': 'Tumour volume Epsilon time 3'})\n",
    "chains[0] = chains[0].rename_vars({'Count Epsilon time 4': 'Tumour volume Epsilon time 4'})\n",
    "chains[0] = chains[0].rename_vars({'Count Epsilon time 5': 'Tumour volume Epsilon time 5'})\n",
    "chains[0] = chains[0].rename_vars({'Count Epsilon time 6': 'Tumour volume Epsilon time 6'})\n",
    "posterior = xr.concat(chains, dim='chain')"
   ]
  },
  {
   "cell_type": "markdown",
   "metadata": {},
   "source": [
    "Number of divergent iterations"
   ]
  },
  {
   "cell_type": "code",
   "execution_count": 39,
   "metadata": {},
   "outputs": [
    {
     "name": "stdout",
     "output_type": "stream",
     "text": [
      "Number of divergent iterations chain 1:  0\n",
      "Number of divergent iterations chain 2:  0\n",
      "Number of divergent iterations chain 3:  0\n"
     ]
    }
   ],
   "source": [
    "warmup = 500\n",
    "n = np.sum(chains[0].attrs['divergent iterations chain 0'] > warmup)\n",
    "print('Number of divergent iterations chain 1: ', n)\n",
    "n = np.sum(chains[1].attrs['divergent iterations chain 0'] > warmup)\n",
    "print('Number of divergent iterations chain 2: ', n)\n",
    "n = np.sum(chains[2].attrs['divergent iterations chain 0'] > warmup)\n",
    "print('Number of divergent iterations chain 3: ', n)"
   ]
  },
  {
   "cell_type": "markdown",
   "metadata": {},
   "source": [
    "Effective number of samples and convergence"
   ]
  },
  {
   "cell_type": "code",
   "execution_count": 40,
   "metadata": {},
   "outputs": [
    {
     "data": {
      "text/html": [
       "<div>\n",
       "<style scoped>\n",
       "    .dataframe tbody tr th:only-of-type {\n",
       "        vertical-align: middle;\n",
       "    }\n",
       "\n",
       "    .dataframe tbody tr th {\n",
       "        vertical-align: top;\n",
       "    }\n",
       "\n",
       "    .dataframe thead th {\n",
       "        text-align: right;\n",
       "    }\n",
       "</style>\n",
       "<table border=\"1\" class=\"dataframe\">\n",
       "  <thead>\n",
       "    <tr style=\"text-align: right;\">\n",
       "      <th></th>\n",
       "      <th>mean</th>\n",
       "      <th>sd</th>\n",
       "      <th>hdi_3%</th>\n",
       "      <th>hdi_97%</th>\n",
       "      <th>mcse_mean</th>\n",
       "      <th>mcse_sd</th>\n",
       "      <th>ess_bulk</th>\n",
       "      <th>ess_tail</th>\n",
       "      <th>r_hat</th>\n",
       "    </tr>\n",
       "  </thead>\n",
       "  <tbody>\n",
       "    <tr>\n",
       "      <th>Mean Initial volume</th>\n",
       "      <td>10.107</td>\n",
       "      <td>0.147</td>\n",
       "      <td>9.815</td>\n",
       "      <td>10.364</td>\n",
       "      <td>0.002</td>\n",
       "      <td>0.001</td>\n",
       "      <td>5134.0</td>\n",
       "      <td>2313.0</td>\n",
       "      <td>1.0</td>\n",
       "    </tr>\n",
       "    <tr>\n",
       "      <th>Mean Growth rate</th>\n",
       "      <td>1.996</td>\n",
       "      <td>0.069</td>\n",
       "      <td>1.874</td>\n",
       "      <td>2.127</td>\n",
       "      <td>0.001</td>\n",
       "      <td>0.001</td>\n",
       "      <td>4545.0</td>\n",
       "      <td>2471.0</td>\n",
       "      <td>1.0</td>\n",
       "    </tr>\n",
       "    <tr>\n",
       "      <th>Std. Initial volume</th>\n",
       "      <td>1.012</td>\n",
       "      <td>0.138</td>\n",
       "      <td>0.758</td>\n",
       "      <td>1.263</td>\n",
       "      <td>0.003</td>\n",
       "      <td>0.002</td>\n",
       "      <td>2088.0</td>\n",
       "      <td>2235.0</td>\n",
       "      <td>1.0</td>\n",
       "    </tr>\n",
       "    <tr>\n",
       "      <th>Std. Growth rate</th>\n",
       "      <td>0.544</td>\n",
       "      <td>0.056</td>\n",
       "      <td>0.440</td>\n",
       "      <td>0.650</td>\n",
       "      <td>0.001</td>\n",
       "      <td>0.001</td>\n",
       "      <td>1638.0</td>\n",
       "      <td>2235.0</td>\n",
       "      <td>1.0</td>\n",
       "    </tr>\n",
       "    <tr>\n",
       "      <th>Sigma Tumour volume</th>\n",
       "      <td>0.780</td>\n",
       "      <td>0.094</td>\n",
       "      <td>0.611</td>\n",
       "      <td>0.969</td>\n",
       "      <td>0.001</td>\n",
       "      <td>0.001</td>\n",
       "      <td>5606.0</td>\n",
       "      <td>2380.0</td>\n",
       "      <td>1.0</td>\n",
       "    </tr>\n",
       "  </tbody>\n",
       "</table>\n",
       "</div>"
      ],
      "text/plain": [
       "                       mean     sd  hdi_3%  hdi_97%  mcse_mean  mcse_sd  \\\n",
       "Mean Initial volume  10.107  0.147   9.815   10.364      0.002    0.001   \n",
       "Mean Growth rate      1.996  0.069   1.874    2.127      0.001    0.001   \n",
       "Std. Initial volume   1.012  0.138   0.758    1.263      0.003    0.002   \n",
       "Std. Growth rate      0.544  0.056   0.440    0.650      0.001    0.001   \n",
       "Sigma Tumour volume   0.780  0.094   0.611    0.969      0.001    0.001   \n",
       "\n",
       "                     ess_bulk  ess_tail  r_hat  \n",
       "Mean Initial volume    5134.0    2313.0    1.0  \n",
       "Mean Growth rate       4545.0    2471.0    1.0  \n",
       "Std. Initial volume    2088.0    2235.0    1.0  \n",
       "Std. Growth rate       1638.0    2235.0    1.0  \n",
       "Sigma Tumour volume    5606.0    2380.0    1.0  "
      ]
     },
     "execution_count": 40,
     "metadata": {},
     "output_type": "execute_result"
    }
   ],
   "source": [
    "az.summary(posterior[[\n",
    "    'Mean Initial volume',\n",
    "    'Mean Growth rate',\n",
    "    'Std. Initial volume',\n",
    "    'Std. Growth rate',\n",
    "    'Sigma Tumour volume']])"
   ]
  },
  {
   "cell_type": "markdown",
   "metadata": {},
   "source": [
    "## 5. Filter inference - 2430 snapshot measurements"
   ]
  },
  {
   "cell_type": "code",
   "execution_count": 41,
   "metadata": {},
   "outputs": [],
   "source": [
    "# Load chains\n",
    "directory = os.getcwd()\n",
    "chains = []\n",
    "chains.append(xr.load_dataset(directory + '/posteriors/5_filter_inference_cancer_growth_405.nc'))\n",
    "chains.append(xr.load_dataset(directory + '/posteriors/5_filter_inference_cancer_growth_405_run_2.nc'))\n",
    "chains.append(xr.load_dataset(directory + '/posteriors/5_filter_inference_cancer_growth_405_run_3.nc'))\n",
    "\n",
    "# Merge chains\n",
    "chains[0] = chains[0].rename_vars({'Mean Initial count': 'Mean Initial volume'})\n",
    "chains[0] = chains[0].rename_vars({'Std. Initial count': 'Std. Initial volume'})\n",
    "chains[0] = chains[0].rename_vars({'Initial count': 'Initial volume'})\n",
    "chains[0] = chains[0].rename_vars({'Sigma Count': 'Sigma Tumour volume'})\n",
    "chains[0] = chains[0].rename_vars({'Count Epsilon time 1': 'Tumour volume Epsilon time 1'})\n",
    "chains[0] = chains[0].rename_vars({'Count Epsilon time 2': 'Tumour volume Epsilon time 2'})\n",
    "chains[0] = chains[0].rename_vars({'Count Epsilon time 3': 'Tumour volume Epsilon time 3'})\n",
    "chains[0] = chains[0].rename_vars({'Count Epsilon time 4': 'Tumour volume Epsilon time 4'})\n",
    "chains[0] = chains[0].rename_vars({'Count Epsilon time 5': 'Tumour volume Epsilon time 5'})\n",
    "chains[0] = chains[0].rename_vars({'Count Epsilon time 6': 'Tumour volume Epsilon time 6'})\n",
    "posterior = xr.concat(chains, dim='chain')"
   ]
  },
  {
   "cell_type": "markdown",
   "metadata": {},
   "source": [
    "Number of divergent iterations"
   ]
  },
  {
   "cell_type": "code",
   "execution_count": 42,
   "metadata": {},
   "outputs": [
    {
     "name": "stdout",
     "output_type": "stream",
     "text": [
      "Number of divergent iterations chain 1:  0\n",
      "Number of divergent iterations chain 2:  0\n",
      "Number of divergent iterations chain 3:  0\n"
     ]
    }
   ],
   "source": [
    "warmup = 500\n",
    "n = np.sum(chains[0].attrs['divergent iterations chain 0'] > warmup)\n",
    "print('Number of divergent iterations chain 1: ', n)\n",
    "n = np.sum(chains[1].attrs['divergent iterations chain 0'] > warmup)\n",
    "print('Number of divergent iterations chain 2: ', n)\n",
    "n = np.sum(chains[2].attrs['divergent iterations chain 0'] > warmup)\n",
    "print('Number of divergent iterations chain 3: ', n)"
   ]
  },
  {
   "cell_type": "markdown",
   "metadata": {},
   "source": [
    "Effective number of samples and covergence"
   ]
  },
  {
   "cell_type": "code",
   "execution_count": 43,
   "metadata": {},
   "outputs": [
    {
     "data": {
      "text/html": [
       "<div>\n",
       "<style scoped>\n",
       "    .dataframe tbody tr th:only-of-type {\n",
       "        vertical-align: middle;\n",
       "    }\n",
       "\n",
       "    .dataframe tbody tr th {\n",
       "        vertical-align: top;\n",
       "    }\n",
       "\n",
       "    .dataframe thead th {\n",
       "        text-align: right;\n",
       "    }\n",
       "</style>\n",
       "<table border=\"1\" class=\"dataframe\">\n",
       "  <thead>\n",
       "    <tr style=\"text-align: right;\">\n",
       "      <th></th>\n",
       "      <th>mean</th>\n",
       "      <th>sd</th>\n",
       "      <th>hdi_3%</th>\n",
       "      <th>hdi_97%</th>\n",
       "      <th>mcse_mean</th>\n",
       "      <th>mcse_sd</th>\n",
       "      <th>ess_bulk</th>\n",
       "      <th>ess_tail</th>\n",
       "      <th>r_hat</th>\n",
       "    </tr>\n",
       "  </thead>\n",
       "  <tbody>\n",
       "    <tr>\n",
       "      <th>Mean Initial volume</th>\n",
       "      <td>10.032</td>\n",
       "      <td>0.128</td>\n",
       "      <td>9.791</td>\n",
       "      <td>10.263</td>\n",
       "      <td>0.003</td>\n",
       "      <td>0.002</td>\n",
       "      <td>1659.0</td>\n",
       "      <td>1919.0</td>\n",
       "      <td>1.0</td>\n",
       "    </tr>\n",
       "    <tr>\n",
       "      <th>Mean Growth rate</th>\n",
       "      <td>1.991</td>\n",
       "      <td>0.057</td>\n",
       "      <td>1.881</td>\n",
       "      <td>2.097</td>\n",
       "      <td>0.002</td>\n",
       "      <td>0.001</td>\n",
       "      <td>1362.0</td>\n",
       "      <td>1787.0</td>\n",
       "      <td>1.0</td>\n",
       "    </tr>\n",
       "    <tr>\n",
       "      <th>Std. Initial volume</th>\n",
       "      <td>1.039</td>\n",
       "      <td>0.125</td>\n",
       "      <td>0.810</td>\n",
       "      <td>1.270</td>\n",
       "      <td>0.003</td>\n",
       "      <td>0.002</td>\n",
       "      <td>1568.0</td>\n",
       "      <td>1886.0</td>\n",
       "      <td>1.0</td>\n",
       "    </tr>\n",
       "    <tr>\n",
       "      <th>Std. Growth rate</th>\n",
       "      <td>0.500</td>\n",
       "      <td>0.049</td>\n",
       "      <td>0.418</td>\n",
       "      <td>0.601</td>\n",
       "      <td>0.001</td>\n",
       "      <td>0.001</td>\n",
       "      <td>1403.0</td>\n",
       "      <td>1765.0</td>\n",
       "      <td>1.0</td>\n",
       "    </tr>\n",
       "    <tr>\n",
       "      <th>Sigma Tumour volume</th>\n",
       "      <td>0.782</td>\n",
       "      <td>0.098</td>\n",
       "      <td>0.593</td>\n",
       "      <td>0.957</td>\n",
       "      <td>0.002</td>\n",
       "      <td>0.001</td>\n",
       "      <td>2781.0</td>\n",
       "      <td>2022.0</td>\n",
       "      <td>1.0</td>\n",
       "    </tr>\n",
       "  </tbody>\n",
       "</table>\n",
       "</div>"
      ],
      "text/plain": [
       "                       mean     sd  hdi_3%  hdi_97%  mcse_mean  mcse_sd  \\\n",
       "Mean Initial volume  10.032  0.128   9.791   10.263      0.003    0.002   \n",
       "Mean Growth rate      1.991  0.057   1.881    2.097      0.002    0.001   \n",
       "Std. Initial volume   1.039  0.125   0.810    1.270      0.003    0.002   \n",
       "Std. Growth rate      0.500  0.049   0.418    0.601      0.001    0.001   \n",
       "Sigma Tumour volume   0.782  0.098   0.593    0.957      0.002    0.001   \n",
       "\n",
       "                     ess_bulk  ess_tail  r_hat  \n",
       "Mean Initial volume    1659.0    1919.0    1.0  \n",
       "Mean Growth rate       1362.0    1787.0    1.0  \n",
       "Std. Initial volume    1568.0    1886.0    1.0  \n",
       "Std. Growth rate       1403.0    1765.0    1.0  \n",
       "Sigma Tumour volume    2781.0    2022.0    1.0  "
      ]
     },
     "execution_count": 43,
     "metadata": {},
     "output_type": "execute_result"
    }
   ],
   "source": [
    "az.summary(posterior[[\n",
    "    'Mean Initial volume',\n",
    "    'Mean Growth rate',\n",
    "    'Std. Initial volume',\n",
    "    'Std. Growth rate',\n",
    "    'Sigma Tumour volume']])"
   ]
  },
  {
   "cell_type": "code",
   "execution_count": null,
   "metadata": {},
   "outputs": [],
   "source": []
  }
 ],
 "metadata": {
  "interpreter": {
   "hash": "7029d8462a547bb653d35db046a7cbb8cb55769ec4cde8e4131add3175164cbb"
  },
  "kernelspec": {
   "display_name": "Python 3.9.4 ('venv': venv)",
   "language": "python",
   "name": "python3"
  },
  "language_info": {
   "codemirror_mode": {
    "name": "ipython",
    "version": 3
   },
   "file_extension": ".py",
   "mimetype": "text/x-python",
   "name": "python",
   "nbconvert_exporter": "python",
   "pygments_lexer": "ipython3",
   "version": "3.9.4"
  },
  "orig_nbformat": 4
 },
 "nbformat": 4,
 "nbformat_minor": 2
}
